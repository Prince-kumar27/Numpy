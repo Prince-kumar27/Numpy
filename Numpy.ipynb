{
 "cells": [
  {
   "cell_type": "markdown",
   "id": "cb7a825d-671f-4a37-9f95-ea15f04731a7",
   "metadata": {},
   "source": [
    "# NUMPY \n"
   ]
  },
  {
   "cell_type": "code",
   "execution_count": 1,
   "id": "7c1fc75f-8bf3-4e10-9ae5-58b288384b65",
   "metadata": {},
   "outputs": [],
   "source": [
    "import numpy as np"
   ]
  },
  {
   "cell_type": "code",
   "execution_count": 2,
   "id": "853d4c9c-81c6-4555-8a38-d6cea0ff4cac",
   "metadata": {},
   "outputs": [
    {
     "name": "stdout",
     "output_type": "stream",
     "text": [
      "[1 2 3 4 5]\n"
     ]
    },
    {
     "data": {
      "text/plain": [
       "numpy.ndarray"
      ]
     },
     "execution_count": 2,
     "metadata": {},
     "output_type": "execute_result"
    }
   ],
   "source": [
    "a=np.array([1,2,3,4,5],dtype='int32')\n",
    "print(a)\n",
    "type(a)"
   ]
  },
  {
   "cell_type": "code",
   "execution_count": 3,
   "id": "25c8fe0c-8d97-4edc-9bea-073fe20c880f",
   "metadata": {},
   "outputs": [
    {
     "name": "stdout",
     "output_type": "stream",
     "text": [
      "[[1.1 2.2 3.4]\n",
      " [5.6 7.8 9.8]]\n"
     ]
    }
   ],
   "source": [
    "a1=np.array([[1.1,2.2,3.4],[5.6,7.8,9.8]])\n",
    "print(a1)"
   ]
  },
  {
   "cell_type": "code",
   "execution_count": 4,
   "id": "9cdba418-6f78-45f9-9103-e18379128ca8",
   "metadata": {},
   "outputs": [
    {
     "name": "stdout",
     "output_type": "stream",
     "text": [
      "1\n",
      "2\n"
     ]
    }
   ],
   "source": [
    "print(a.ndim)\n",
    "print(a1.ndim)"
   ]
  },
  {
   "cell_type": "code",
   "execution_count": 5,
   "id": "c4c910c7-d0dc-422d-9fee-f24855588cfa",
   "metadata": {},
   "outputs": [
    {
     "data": {
      "text/plain": [
       "(5,)"
      ]
     },
     "execution_count": 5,
     "metadata": {},
     "output_type": "execute_result"
    }
   ],
   "source": [
    "a.shape"
   ]
  },
  {
   "cell_type": "code",
   "execution_count": 6,
   "id": "47ba0d29-79ee-4999-a769-980472a3becc",
   "metadata": {},
   "outputs": [
    {
     "data": {
      "text/plain": [
       "(2, 3)"
      ]
     },
     "execution_count": 6,
     "metadata": {},
     "output_type": "execute_result"
    }
   ],
   "source": [
    "a1.shape"
   ]
  },
  {
   "cell_type": "code",
   "execution_count": 7,
   "id": "45277cf8-fbbb-4fd4-b87c-66626322f4bb",
   "metadata": {},
   "outputs": [
    {
     "data": {
      "text/plain": [
       "dtype('int32')"
      ]
     },
     "execution_count": 7,
     "metadata": {},
     "output_type": "execute_result"
    }
   ],
   "source": [
    "a.dtype"
   ]
  },
  {
   "cell_type": "code",
   "execution_count": 8,
   "id": "a2f1cf28-bf0c-42dd-9b52-70c5cb4f8e6e",
   "metadata": {},
   "outputs": [
    {
     "data": {
      "text/plain": [
       "dtype('float64')"
      ]
     },
     "execution_count": 8,
     "metadata": {},
     "output_type": "execute_result"
    }
   ],
   "source": [
    "a1.dtype"
   ]
  },
  {
   "cell_type": "code",
   "execution_count": 9,
   "id": "ff5b298c-fdf3-433e-beec-d889de7bbb87",
   "metadata": {},
   "outputs": [
    {
     "data": {
      "text/plain": [
       "4"
      ]
     },
     "execution_count": 9,
     "metadata": {},
     "output_type": "execute_result"
    }
   ],
   "source": [
    "a.itemsize"
   ]
  },
  {
   "cell_type": "code",
   "execution_count": 10,
   "id": "e09f9a63-2680-4904-b3b0-6cd7e79a9842",
   "metadata": {},
   "outputs": [
    {
     "data": {
      "text/plain": [
       "20"
      ]
     },
     "execution_count": 10,
     "metadata": {},
     "output_type": "execute_result"
    }
   ],
   "source": [
    "a.size*a.itemsize "
   ]
  },
  {
   "cell_type": "code",
   "execution_count": 11,
   "id": "2169d99d-dd68-48b4-9a96-d22e92602fb2",
   "metadata": {},
   "outputs": [
    {
     "data": {
      "text/plain": [
       "20"
      ]
     },
     "execution_count": 11,
     "metadata": {},
     "output_type": "execute_result"
    }
   ],
   "source": [
    "a.nbytes"
   ]
  },
  {
   "cell_type": "code",
   "execution_count": 12,
   "id": "f2c6e427-f140-47bc-acf1-3f6cfb70958d",
   "metadata": {},
   "outputs": [
    {
     "data": {
      "text/plain": [
       "6"
      ]
     },
     "execution_count": 12,
     "metadata": {},
     "output_type": "execute_result"
    }
   ],
   "source": [
    "a1.size"
   ]
  },
  {
   "cell_type": "code",
   "execution_count": 13,
   "id": "4e73aeca-258a-425e-bd51-c542c9ee8898",
   "metadata": {},
   "outputs": [],
   "source": [
    "b=np.array([1,2,3,4,5],dtype='int32',ndmin=3)"
   ]
  },
  {
   "cell_type": "code",
   "execution_count": 14,
   "id": "fe192329-f05b-42fe-9c94-7ff6aeada77c",
   "metadata": {},
   "outputs": [
    {
     "name": "stdout",
     "output_type": "stream",
     "text": [
      "[[[1 2 3 4 5]]]\n"
     ]
    },
    {
     "data": {
      "text/plain": [
       "3"
      ]
     },
     "execution_count": 14,
     "metadata": {},
     "output_type": "execute_result"
    }
   ],
   "source": [
    "print(b)\n",
    "b.ndim"
   ]
  },
  {
   "cell_type": "code",
   "execution_count": 15,
   "id": "d780e301-2460-4c96-9838-d4bb157e98a7",
   "metadata": {},
   "outputs": [
    {
     "name": "stdout",
     "output_type": "stream",
     "text": [
      "[[ 1  2  3  4  5  6]\n",
      " [ 7  8  9 10 11 12]]\n"
     ]
    }
   ],
   "source": [
    "arr=np.array([[1,2,3,4,5,6],[7,8,9,10,11,12]])\n",
    "print(arr)"
   ]
  },
  {
   "cell_type": "code",
   "execution_count": 16,
   "id": "43df4c49-5789-4565-99fe-67a2bf524388",
   "metadata": {},
   "outputs": [
    {
     "data": {
      "text/plain": [
       "(2, 6)"
      ]
     },
     "execution_count": 16,
     "metadata": {},
     "output_type": "execute_result"
    }
   ],
   "source": [
    "arr.shape"
   ]
  },
  {
   "cell_type": "code",
   "execution_count": 17,
   "id": "63456bfa-fc2e-4cfa-b701-b3a78fd40de0",
   "metadata": {},
   "outputs": [
    {
     "name": "stdout",
     "output_type": "stream",
     "text": [
      "12\n"
     ]
    }
   ],
   "source": [
    "print(arr[1,5])"
   ]
  },
  {
   "cell_type": "code",
   "execution_count": 18,
   "id": "3d3cfe0b-92e7-41b5-aeb3-d8c5a673417b",
   "metadata": {},
   "outputs": [
    {
     "name": "stdout",
     "output_type": "stream",
     "text": [
      "12\n"
     ]
    }
   ],
   "source": [
    "print(arr[1,-1])"
   ]
  },
  {
   "cell_type": "code",
   "execution_count": 19,
   "id": "b2f1d18a-7508-42ff-ae93-b4fc64f7a679",
   "metadata": {},
   "outputs": [
    {
     "name": "stdout",
     "output_type": "stream",
     "text": [
      "[1 2 3 4 5 6]\n"
     ]
    }
   ],
   "source": [
    "# get row\n",
    "print(arr[0,:])"
   ]
  },
  {
   "cell_type": "code",
   "execution_count": 20,
   "id": "e2e28d8c-a317-4ebd-ab0f-d6ecf60e7d6c",
   "metadata": {},
   "outputs": [
    {
     "name": "stdout",
     "output_type": "stream",
     "text": [
      "[3 9]\n"
     ]
    }
   ],
   "source": [
    "print(arr[:,2])"
   ]
  },
  {
   "cell_type": "code",
   "execution_count": 21,
   "id": "db4efae1-4430-4339-b4b8-7da835d8dd93",
   "metadata": {},
   "outputs": [
    {
     "name": "stdout",
     "output_type": "stream",
     "text": [
      "[1 3 5]\n"
     ]
    }
   ],
   "source": [
    "print(arr[0,::2])"
   ]
  },
  {
   "cell_type": "code",
   "execution_count": 22,
   "id": "01436fab-06da-475b-ae79-7213742aa5f7",
   "metadata": {},
   "outputs": [
    {
     "name": "stdout",
     "output_type": "stream",
     "text": [
      "[1 3 5]\n"
     ]
    }
   ],
   "source": [
    "print(arr[0,:-1:2])  # startindex:endindex:stepsize"
   ]
  },
  {
   "cell_type": "code",
   "execution_count": 23,
   "id": "05312f5d-73fd-4ff1-88a5-551549c14fc4",
   "metadata": {},
   "outputs": [],
   "source": [
    "arr[1,1:4]=0"
   ]
  },
  {
   "cell_type": "code",
   "execution_count": 24,
   "id": "d5b3a78e-d400-41d5-876b-c6a0c348a225",
   "metadata": {},
   "outputs": [
    {
     "name": "stdout",
     "output_type": "stream",
     "text": [
      "[[ 1  2  3  4  5  6]\n",
      " [ 7  0  0  0 11 12]]\n"
     ]
    }
   ],
   "source": [
    "print(arr)"
   ]
  },
  {
   "cell_type": "code",
   "execution_count": 25,
   "id": "472a4c00-1a2a-464a-9ee9-cc7284906094",
   "metadata": {},
   "outputs": [],
   "source": [
    "arr[:,0]=[1,10]"
   ]
  },
  {
   "cell_type": "code",
   "execution_count": 26,
   "id": "a8385974-11d4-45f2-a633-6151653fba0c",
   "metadata": {},
   "outputs": [
    {
     "name": "stdout",
     "output_type": "stream",
     "text": [
      "[[ 1  2  3  4  5  6]\n",
      " [10  0  0  0 11 12]]\n"
     ]
    }
   ],
   "source": [
    "print(arr)"
   ]
  },
  {
   "cell_type": "code",
   "execution_count": 27,
   "id": "ef3889c6-ed86-43fc-a8cc-8c83930c3352",
   "metadata": {},
   "outputs": [],
   "source": [
    "arr1=np.array([[[1,2,3],[4,5,6]],[[7,8,9],[10,11,12]]])"
   ]
  },
  {
   "cell_type": "code",
   "execution_count": 28,
   "id": "a14bb2c8-1198-4719-9736-a8e474e7f634",
   "metadata": {},
   "outputs": [
    {
     "data": {
      "text/plain": [
       "array([[[ 1,  2,  3],\n",
       "        [ 4,  5,  6]],\n",
       "\n",
       "       [[ 7,  8,  9],\n",
       "        [10, 11, 12]]])"
      ]
     },
     "execution_count": 28,
     "metadata": {},
     "output_type": "execute_result"
    }
   ],
   "source": [
    "arr1"
   ]
  },
  {
   "cell_type": "code",
   "execution_count": 29,
   "id": "e5f4ffdf-dca6-4411-997b-a9a4baf2dd3f",
   "metadata": {},
   "outputs": [
    {
     "name": "stdout",
     "output_type": "stream",
     "text": [
      "6\n"
     ]
    }
   ],
   "source": [
    "print(arr1[0,1,2])"
   ]
  },
  {
   "cell_type": "code",
   "execution_count": 30,
   "id": "2bce233f-399f-40f3-85a0-00689d4bab09",
   "metadata": {},
   "outputs": [],
   "source": [
    "arr1[1,1,:]=10"
   ]
  },
  {
   "cell_type": "code",
   "execution_count": 31,
   "id": "d8e8561e-ea48-48f9-9de2-721cac21720e",
   "metadata": {},
   "outputs": [
    {
     "data": {
      "text/plain": [
       "array([[[ 1,  2,  3],\n",
       "        [ 4,  5,  6]],\n",
       "\n",
       "       [[ 7,  8,  9],\n",
       "        [10, 10, 10]]])"
      ]
     },
     "execution_count": 31,
     "metadata": {},
     "output_type": "execute_result"
    }
   ],
   "source": [
    "arr1"
   ]
  },
  {
   "cell_type": "code",
   "execution_count": 32,
   "id": "f06b0647-b139-45b0-8379-1c9a0901e88e",
   "metadata": {},
   "outputs": [],
   "source": [
    "n=np.ones((5,5),dtype='int32')"
   ]
  },
  {
   "cell_type": "code",
   "execution_count": 33,
   "id": "344373c3-3a9d-4f1f-8f1f-a9e704460e66",
   "metadata": {},
   "outputs": [
    {
     "name": "stdout",
     "output_type": "stream",
     "text": [
      "[[1 1 1 1 1]\n",
      " [1 1 1 1 1]\n",
      " [1 1 1 1 1]\n",
      " [1 1 1 1 1]\n",
      " [1 1 1 1 1]]\n"
     ]
    }
   ],
   "source": [
    "print(n)"
   ]
  },
  {
   "cell_type": "code",
   "execution_count": 34,
   "id": "e8a107cb-67d3-4ecb-a62f-311db0906084",
   "metadata": {},
   "outputs": [],
   "source": [
    "n[1:4,1:4]=0"
   ]
  },
  {
   "cell_type": "code",
   "execution_count": 35,
   "id": "ed981b64-f1af-4d6a-b05f-987ac660000a",
   "metadata": {},
   "outputs": [
    {
     "data": {
      "text/plain": [
       "array([[1, 1, 1, 1, 1],\n",
       "       [1, 0, 0, 0, 1],\n",
       "       [1, 0, 0, 0, 1],\n",
       "       [1, 0, 0, 0, 1],\n",
       "       [1, 1, 1, 1, 1]], dtype=int32)"
      ]
     },
     "execution_count": 35,
     "metadata": {},
     "output_type": "execute_result"
    }
   ],
   "source": [
    "n"
   ]
  },
  {
   "cell_type": "code",
   "execution_count": 36,
   "id": "53c8a069-5d92-48d9-ac35-ae73f64fb7b0",
   "metadata": {},
   "outputs": [],
   "source": [
    "n[2,2]=5"
   ]
  },
  {
   "cell_type": "code",
   "execution_count": 37,
   "id": "d16a370b-ee67-4cf7-be9a-df0cd54f76f6",
   "metadata": {},
   "outputs": [
    {
     "data": {
      "text/plain": [
       "array([[1, 1, 1, 1, 1],\n",
       "       [1, 0, 0, 0, 1],\n",
       "       [1, 0, 5, 0, 1],\n",
       "       [1, 0, 0, 0, 1],\n",
       "       [1, 1, 1, 1, 1]], dtype=int32)"
      ]
     },
     "execution_count": 37,
     "metadata": {},
     "output_type": "execute_result"
    }
   ],
   "source": [
    "n"
   ]
  },
  {
   "cell_type": "code",
   "execution_count": 38,
   "id": "76c0fce4-24da-4ed5-b74f-32ffe85cafb4",
   "metadata": {},
   "outputs": [
    {
     "data": {
      "text/plain": [
       "array([[[0., 0.],\n",
       "        [0., 0.]]])"
      ]
     },
     "execution_count": 38,
     "metadata": {},
     "output_type": "execute_result"
    }
   ],
   "source": [
    "np.zeros((1,2,2))"
   ]
  },
  {
   "cell_type": "code",
   "execution_count": 39,
   "id": "0225d623-e17f-4ed3-8126-f2daf9109ba2",
   "metadata": {},
   "outputs": [
    {
     "data": {
      "text/plain": [
       "array([[[1., 1.],\n",
       "        [1., 1.],\n",
       "        [1., 1.],\n",
       "        [1., 1.]],\n",
       "\n",
       "       [[1., 1.],\n",
       "        [1., 1.],\n",
       "        [1., 1.],\n",
       "        [1., 1.]],\n",
       "\n",
       "       [[1., 1.],\n",
       "        [1., 1.],\n",
       "        [1., 1.],\n",
       "        [1., 1.]],\n",
       "\n",
       "       [[1., 1.],\n",
       "        [1., 1.],\n",
       "        [1., 1.],\n",
       "        [1., 1.]]])"
      ]
     },
     "execution_count": 39,
     "metadata": {},
     "output_type": "execute_result"
    }
   ],
   "source": [
    "np.ones((4,4,2))"
   ]
  },
  {
   "cell_type": "code",
   "execution_count": 40,
   "id": "35d6f303-d672-43a1-ab6c-94c170cb4939",
   "metadata": {},
   "outputs": [
    {
     "data": {
      "text/plain": [
       "array([[99, 99, 99],\n",
       "       [99, 99, 99]])"
      ]
     },
     "execution_count": 40,
     "metadata": {},
     "output_type": "execute_result"
    }
   ],
   "source": [
    "np.full((2,3),99)"
   ]
  },
  {
   "cell_type": "code",
   "execution_count": 41,
   "id": "641670d6-0ff8-48e1-9370-b5adfcce3737",
   "metadata": {},
   "outputs": [
    {
     "data": {
      "text/plain": [
       "array([[0.89804287, 0.10924292],\n",
       "       [0.97687708, 0.54366636],\n",
       "       [0.62369144, 0.50749705],\n",
       "       [0.81018678, 0.93044301]])"
      ]
     },
     "execution_count": 41,
     "metadata": {},
     "output_type": "execute_result"
    }
   ],
   "source": [
    "np.random.rand(4,2)"
   ]
  },
  {
   "cell_type": "code",
   "execution_count": 42,
   "id": "cb6824f7-ec7c-45d5-89ce-9eddbdf940bc",
   "metadata": {},
   "outputs": [
    {
     "data": {
      "text/plain": [
       "array([[6, 3, 2],\n",
       "       [4, 4, 0]], dtype=int32)"
      ]
     },
     "execution_count": 42,
     "metadata": {},
     "output_type": "execute_result"
    }
   ],
   "source": [
    "np.random.randint(7,size=(2,3))"
   ]
  },
  {
   "cell_type": "code",
   "execution_count": 43,
   "id": "ada63f1f-f08c-4906-a847-4253e2f33578",
   "metadata": {},
   "outputs": [],
   "source": [
    "a=np.ones((2,3))\n",
    "b=np.full((3,2),99)"
   ]
  },
  {
   "cell_type": "code",
   "execution_count": 44,
   "id": "c1272d5f-b18d-45db-89ab-7b98868b594a",
   "metadata": {},
   "outputs": [
    {
     "name": "stdout",
     "output_type": "stream",
     "text": [
      "[ True  True  True  True  True False  True False]\n"
     ]
    }
   ],
   "source": [
    "arr=np.array([1,2,3,4,5,0,9,0])\n",
    "\n",
    "newarr=arr.astype(bool)\n",
    "print(newarr)"
   ]
  },
  {
   "cell_type": "code",
   "execution_count": 45,
   "id": "c8345b2f-37d4-4113-bb8b-80fb2359ce68",
   "metadata": {},
   "outputs": [
    {
     "data": {
      "text/plain": [
       "(8,)"
      ]
     },
     "execution_count": 45,
     "metadata": {},
     "output_type": "execute_result"
    }
   ],
   "source": [
    "arr.shape"
   ]
  },
  {
   "cell_type": "code",
   "execution_count": 46,
   "id": "61ce3a48-c1b1-474a-94a5-781f37063238",
   "metadata": {},
   "outputs": [
    {
     "name": "stdout",
     "output_type": "stream",
     "text": [
      "[2 4 6]\n"
     ]
    }
   ],
   "source": [
    "arr=np.array([1,2,3,4,5,6,7])\n",
    "newarr=arr[arr%2==0]\n",
    "print(newarr)"
   ]
  },
  {
   "cell_type": "code",
   "execution_count": 47,
   "id": "4a0cd481-3416-4f83-a6f5-71703f0d96ba",
   "metadata": {},
   "outputs": [],
   "source": [
    "a=np.arange(1,31).reshape(1,6,5)"
   ]
  },
  {
   "cell_type": "code",
   "execution_count": 48,
   "id": "0b3de93b-682d-4e26-b705-66739c184d98",
   "metadata": {},
   "outputs": [
    {
     "data": {
      "text/plain": [
       "array([[[ 1,  2,  3,  4,  5],\n",
       "        [ 6,  7,  8,  9, 10],\n",
       "        [11, 12, 13, 14, 15],\n",
       "        [16, 17, 18, 19, 20],\n",
       "        [21, 22, 23, 24, 25],\n",
       "        [26, 27, 28, 29, 30]]])"
      ]
     },
     "execution_count": 48,
     "metadata": {},
     "output_type": "execute_result"
    }
   ],
   "source": [
    "a"
   ]
  },
  {
   "cell_type": "code",
   "execution_count": 49,
   "id": "91413a3e-7b4b-4145-8863-df566e48b42e",
   "metadata": {},
   "outputs": [],
   "source": [
    "b=np.matrix([[ 1,  2,  3,  4,  5],\n",
    "        [ 6,  7,  8,  9, 10],\n",
    "        [11, 12, 13, 14, 15],\n",
    "        [16, 17, 18, 19, 20],\n",
    "        [21, 22, 23, 24, 25],\n",
    "        [26, 27, 28, 29, 30]])"
   ]
  },
  {
   "cell_type": "code",
   "execution_count": 50,
   "id": "18fdf0e1-64e4-4d63-aa99-f76ae4cbaae3",
   "metadata": {},
   "outputs": [
    {
     "data": {
      "text/plain": [
       "matrix([[ 1,  2,  3,  4,  5],\n",
       "        [ 6,  7,  8,  9, 10],\n",
       "        [11, 12, 13, 14, 15],\n",
       "        [16, 17, 18, 19, 20],\n",
       "        [21, 22, 23, 24, 25],\n",
       "        [26, 27, 28, 29, 30]])"
      ]
     },
     "execution_count": 50,
     "metadata": {},
     "output_type": "execute_result"
    }
   ],
   "source": [
    "b"
   ]
  },
  {
   "cell_type": "code",
   "execution_count": 51,
   "id": "ff9eea80-bce6-4143-b553-0711a7b5bf3f",
   "metadata": {},
   "outputs": [
    {
     "data": {
      "text/plain": [
       "matrix([[ 4,  5],\n",
       "        [24, 25],\n",
       "        [29, 30]])"
      ]
     },
     "execution_count": 51,
     "metadata": {},
     "output_type": "execute_result"
    }
   ],
   "source": [
    "b[[0,4,5],3:]"
   ]
  },
  {
   "cell_type": "code",
   "execution_count": 52,
   "id": "700cb23b-7796-484d-a857-35872d01276b",
   "metadata": {},
   "outputs": [
    {
     "data": {
      "text/plain": [
       "matrix([[ 1,  7, 13, 19, 25]])"
      ]
     },
     "execution_count": 52,
     "metadata": {},
     "output_type": "execute_result"
    }
   ],
   "source": [
    "#digonal element\n",
    "b[[0,1,2,3,4],[0,1,2,3,4]]"
   ]
  },
  {
   "cell_type": "code",
   "execution_count": 53,
   "id": "f23aa040-e913-44bb-9a1f-f35d485bb092",
   "metadata": {},
   "outputs": [
    {
     "data": {
      "text/plain": [
       "matrix([[ 2,  4,  6,  8, 10, 12, 14, 16, 18, 20, 22, 24, 26, 28, 30]])"
      ]
     },
     "execution_count": 53,
     "metadata": {},
     "output_type": "execute_result"
    }
   ],
   "source": [
    "b[b%2==0]"
   ]
  },
  {
   "cell_type": "code",
   "execution_count": 59,
   "id": "92b74b5c-4ab0-4034-a777-6e4597572e87",
   "metadata": {},
   "outputs": [
    {
     "data": {
      "text/plain": [
       "np.int64(1)"
      ]
     },
     "execution_count": 59,
     "metadata": {},
     "output_type": "execute_result"
    }
   ],
   "source": [
    "np.max(b,axis=0)\n",
    "np.min(b)"
   ]
  },
  {
   "cell_type": "code",
   "execution_count": 55,
   "id": "2016d4fb-a5ce-44f0-b679-2b00b13fa1c3",
   "metadata": {},
   "outputs": [
    {
     "name": "stdout",
     "output_type": "stream",
     "text": [
      "(array([4]), array([2]))\n"
     ]
    }
   ],
   "source": [
    "print(np.where(b==23))"
   ]
  },
  {
   "cell_type": "code",
   "execution_count": 56,
   "id": "569170be-5d9c-43c7-b06e-cef0bfbc3837",
   "metadata": {},
   "outputs": [],
   "source": [
    "a=np.array([1,2,3,4,56,7,8,9],ndmin=6)"
   ]
  },
  {
   "cell_type": "code",
   "execution_count": 57,
   "id": "702bd1db-02b5-4e82-9676-6b4e07ae541e",
   "metadata": {},
   "outputs": [
    {
     "data": {
      "text/plain": [
       "array([[[[[[ 1,  2,  3,  4, 56,  7,  8,  9]]]]]])"
      ]
     },
     "execution_count": 57,
     "metadata": {},
     "output_type": "execute_result"
    }
   ],
   "source": [
    "a"
   ]
  },
  {
   "cell_type": "code",
   "execution_count": 58,
   "id": "bc708002-9763-4a28-b78c-29cc7ee7d02d",
   "metadata": {},
   "outputs": [
    {
     "name": "stdout",
     "output_type": "stream",
     "text": [
      "1\n",
      "2\n",
      "3\n",
      "4\n",
      "56\n",
      "7\n",
      "8\n",
      "9\n"
     ]
    }
   ],
   "source": [
    "for i in np.nditer(a):\n",
    "    print(i)"
   ]
  },
  {
   "cell_type": "code",
   "execution_count": 60,
   "id": "1841deca-f338-496f-ad31-fc4dffbe9d53",
   "metadata": {},
   "outputs": [],
   "source": [
    "a=np.array([1,2,3,4,5,6])\n",
    "b=a.view() # changes origninal array\n",
    "c=a.copy() # have copy of array "
   ]
  },
  {
   "cell_type": "code",
   "execution_count": 62,
   "id": "57545dc9-ac9b-4202-a5ae-963a65774a17",
   "metadata": {},
   "outputs": [
    {
     "data": {
      "text/plain": [
       "array([ 1, 10,  3,  4,  5,  6])"
      ]
     },
     "execution_count": 62,
     "metadata": {},
     "output_type": "execute_result"
    }
   ],
   "source": [
    "b[1]=10\n",
    "a"
   ]
  },
  {
   "cell_type": "code",
   "execution_count": 66,
   "id": "c9badb5a-c0b1-4758-b652-06c9b76141d7",
   "metadata": {},
   "outputs": [
    {
     "data": {
      "text/plain": [
       "array([ 1, 10,  3,  4,  5,  6])"
      ]
     },
     "execution_count": 66,
     "metadata": {},
     "output_type": "execute_result"
    }
   ],
   "source": [
    "c[1:3]=10\n",
    "c\n",
    "a"
   ]
  },
  {
   "cell_type": "code",
   "execution_count": 67,
   "id": "4585c58d-be4e-4709-8a31-55aa228541ae",
   "metadata": {},
   "outputs": [
    {
     "name": "stdout",
     "output_type": "stream",
     "text": [
      "None\n"
     ]
    }
   ],
   "source": [
    "print(c.base)"
   ]
  },
  {
   "cell_type": "code",
   "execution_count": 69,
   "id": "df0389a8-994a-46f6-a605-cd3896ea761d",
   "metadata": {},
   "outputs": [
    {
     "name": "stdout",
     "output_type": "stream",
     "text": [
      "[ 1 10  3  4  5  6]\n"
     ]
    }
   ],
   "source": [
    "print(b.base) # b own the data from a"
   ]
  },
  {
   "cell_type": "code",
   "execution_count": 72,
   "id": "6e99e30e-7ee2-4196-bedc-eb6616123b74",
   "metadata": {},
   "outputs": [],
   "source": [
    "a1=([1,2],[3,4])\n",
    "a2=([5,6],[7,8])\n",
    "\n",
    "a3=np.concatenate((a1,a2),axis=1) # axis1 ---->> along row\n",
    "a4=np.concatenate((a1,a2),axis=0)"
   ]
  },
  {
   "cell_type": "code",
   "execution_count": 71,
   "id": "602c6e1d-1060-4e5e-9278-f6ef2bfa3cb3",
   "metadata": {},
   "outputs": [
    {
     "data": {
      "text/plain": [
       "array([[1, 2, 5, 6],\n",
       "       [3, 4, 7, 8]])"
      ]
     },
     "execution_count": 71,
     "metadata": {},
     "output_type": "execute_result"
    }
   ],
   "source": [
    "a3"
   ]
  },
  {
   "cell_type": "code",
   "execution_count": 73,
   "id": "4ddd4031-e00e-406e-843f-2f75538f6ca6",
   "metadata": {},
   "outputs": [
    {
     "data": {
      "text/plain": [
       "array([[1, 2],\n",
       "       [3, 4],\n",
       "       [5, 6],\n",
       "       [7, 8]])"
      ]
     },
     "execution_count": 73,
     "metadata": {},
     "output_type": "execute_result"
    }
   ],
   "source": [
    "a4"
   ]
  },
  {
   "cell_type": "code",
   "execution_count": 74,
   "id": "aef41cf6-0c4c-4128-af11-216df330babc",
   "metadata": {},
   "outputs": [
    {
     "data": {
      "text/plain": [
       "array([[[1, 2],\n",
       "        [5, 6]],\n",
       "\n",
       "       [[3, 4],\n",
       "        [7, 8]]])"
      ]
     },
     "execution_count": 74,
     "metadata": {},
     "output_type": "execute_result"
    }
   ],
   "source": [
    "np.stack((a1,a2),axis=1)"
   ]
  },
  {
   "cell_type": "code",
   "execution_count": 75,
   "id": "6f41e989-8184-4f15-ad3e-4645873f7352",
   "metadata": {},
   "outputs": [
    {
     "data": {
      "text/plain": [
       "array([[[1, 5],\n",
       "        [2, 6]],\n",
       "\n",
       "       [[3, 7],\n",
       "        [4, 8]]])"
      ]
     },
     "execution_count": 75,
     "metadata": {},
     "output_type": "execute_result"
    }
   ],
   "source": [
    "np.dstack((a1,a2))"
   ]
  },
  {
   "cell_type": "code",
   "execution_count": 76,
   "id": "90491c39-f717-402c-a872-d410dc9c675c",
   "metadata": {},
   "outputs": [
    {
     "data": {
      "text/plain": [
       "array([[1, 2, 5, 6],\n",
       "       [3, 4, 7, 8]])"
      ]
     },
     "execution_count": 76,
     "metadata": {},
     "output_type": "execute_result"
    }
   ],
   "source": [
    "np.hstack((a1,a2))"
   ]
  },
  {
   "cell_type": "code",
   "execution_count": 77,
   "id": "a8c4db33-5b0a-4cb5-a600-d00b18ac5394",
   "metadata": {},
   "outputs": [
    {
     "data": {
      "text/plain": [
       "array([[1, 2],\n",
       "       [3, 4],\n",
       "       [5, 6],\n",
       "       [7, 8]])"
      ]
     },
     "execution_count": 77,
     "metadata": {},
     "output_type": "execute_result"
    }
   ],
   "source": [
    "np.vstack((a1,a2))"
   ]
  },
  {
   "cell_type": "code",
   "execution_count": null,
   "id": "165866c4-763c-4d17-b0b7-c33e642cd383",
   "metadata": {},
   "outputs": [],
   "source": []
  }
 ],
 "metadata": {
  "kernelspec": {
   "display_name": "Python 3 (ipykernel)",
   "language": "python",
   "name": "python3"
  },
  "language_info": {
   "codemirror_mode": {
    "name": "ipython",
    "version": 3
   },
   "file_extension": ".py",
   "mimetype": "text/x-python",
   "name": "python",
   "nbconvert_exporter": "python",
   "pygments_lexer": "ipython3",
   "version": "3.12.4"
  }
 },
 "nbformat": 4,
 "nbformat_minor": 5
}
